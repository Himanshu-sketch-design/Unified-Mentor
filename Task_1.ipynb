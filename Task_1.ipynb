{
 "cells": [
  {
   "cell_type": "markdown",
   "metadata": {},
   "source": [
    "Climate Change Modelling"
   ]
  },
  {
   "cell_type": "markdown",
   "metadata": {},
   "source": [
    "1. Libraries and Reading the file"
   ]
  },
  {
   "cell_type": "code",
   "execution_count": 1,
   "metadata": {},
   "outputs": [],
   "source": [
    "# import the necessary libraries for reading the data from the dataset\n",
    "\n",
    "import numpy as np\n",
    "import pandas as pd\n",
    "from sklearn.model_selection import train_test_split\n",
    "from sklearn.preprocessing import StandardScaler\n",
    "from sklearn.ensemble import RandomForestRegressor\n",
    "from sklearn.metrics import mean_absolute_error, mean_squared_error, r2_score\n",
    "from sklearn.linear_model import LinearRegression\n",
    "from sklearn.tree import DecisionTreeRegressor\n",
    "import matplotlib.pyplot as plt\n",
    "import xgboost as xgb\n",
    "import seaborn as sns"
   ]
  },
  {
   "cell_type": "code",
   "execution_count": 2,
   "metadata": {},
   "outputs": [],
   "source": [
    "# Import the dataset\n",
    "\n",
    "data = pd.read_csv(r\"D:\\climate_change_data.csv\\climate_change_data.csv\")"
   ]
  },
  {
   "cell_type": "markdown",
   "metadata": {},
   "source": [
    "2. Dataset Info."
   ]
  },
  {
   "cell_type": "code",
   "execution_count": null,
   "metadata": {},
   "outputs": [],
   "source": [
    "data.head()"
   ]
  },
  {
   "cell_type": "code",
   "execution_count": null,
   "metadata": {},
   "outputs": [],
   "source": [
    "data.describe().T"
   ]
  },
  {
   "cell_type": "code",
   "execution_count": null,
   "metadata": {},
   "outputs": [],
   "source": [
    "data.info()"
   ]
  },
  {
   "cell_type": "markdown",
   "metadata": {},
   "source": [
    "Data Preprocessing"
   ]
  },
  {
   "cell_type": "markdown",
   "metadata": {},
   "source": [
    "1. Data Cleaning"
   ]
  },
  {
   "cell_type": "code",
   "execution_count": null,
   "metadata": {},
   "outputs": [],
   "source": [
    "# Check if dataset has null values or not\n",
    "\n",
    "data.isnull().sum()\n",
    "\n",
    "# Note : Fill the null value in the columns using fillna function"
   ]
  },
  {
   "cell_type": "markdown",
   "metadata": {},
   "source": [
    "2. Data Normalization"
   ]
  },
  {
   "cell_type": "code",
   "execution_count": 7,
   "metadata": {},
   "outputs": [],
   "source": [
    "data['normal'] = (data['Temperature'].values - (-3.803589)) / (33.976956 - (-3.803589))"
   ]
  },
  {
   "cell_type": "code",
   "execution_count": 8,
   "metadata": {},
   "outputs": [],
   "source": [
    "data['Date'] = pd.to_datetime(data['Date']).dt.month"
   ]
  },
  {
   "cell_type": "code",
   "execution_count": null,
   "metadata": {},
   "outputs": [],
   "source": [
    "data.columns"
   ]
  },
  {
   "cell_type": "code",
   "execution_count": 10,
   "metadata": {},
   "outputs": [],
   "source": [
    "df = data[['Country', 'Location']]\n",
    "\n",
    "# Function to map strings to numbers for a given column\n",
    "def map_column_to_numbers(column):\n",
    "    value_counts = column.value_counts()\n",
    "    value_map = {}\n",
    "    \n",
    "    counter = 1\n",
    "    for value in value_counts.index:\n",
    "        if value_counts[value] >= 2:\n",
    "            value_map[value] = counter\n",
    "        else:\n",
    "            value_map[value] = counter\n",
    "        counter += 1\n",
    "    \n",
    "    return column.map(value_map)\n",
    "\n",
    "# Apply the mapping function to both columns\n",
    "data['Country Number'] = map_column_to_numbers(df['Country'])\n",
    "data['Location Number'] = map_column_to_numbers(df['Location'])"
   ]
  },
  {
   "cell_type": "code",
   "execution_count": 12,
   "metadata": {},
   "outputs": [],
   "source": [
    "# Data Featuring and Labeling \n",
    "\n",
    "x = data.drop(['normal', 'Location', 'Country'],  axis = 1)\n",
    "y = data[['normal', 'Date', 'Temperature', 'CO2 Emissions', 'Sea Level Rise', 'Precipitation', 'Humidity', 'Wind Speed', 'normal', 'Country Number', 'Location Number']]"
   ]
  },
  {
   "cell_type": "markdown",
   "metadata": {},
   "source": [
    "Machine Learning"
   ]
  },
  {
   "cell_type": "markdown",
   "metadata": {},
   "source": [
    "1. Training and Testing"
   ]
  },
  {
   "cell_type": "code",
   "execution_count": 13,
   "metadata": {},
   "outputs": [],
   "source": [
    "# Split the data into training and testing sets\n",
    "\n",
    "x_train, x_test, y_train, y_test = train_test_split(x, y, test_size=0.2, random_state=42)"
   ]
  },
  {
   "cell_type": "markdown",
   "metadata": {},
   "source": [
    "2. Standardize the Model"
   ]
  },
  {
   "cell_type": "code",
   "execution_count": 14,
   "metadata": {},
   "outputs": [],
   "source": [
    "# Standardize the features\n",
    "\n",
    "scaler = StandardScaler()\n",
    "x_train = scaler.fit_transform(x_train)\n",
    "x_test = scaler.transform(x_test)"
   ]
  },
  {
   "cell_type": "markdown",
   "metadata": {},
   "source": [
    "3. Train the Model"
   ]
  },
  {
   "cell_type": "code",
   "execution_count": 17,
   "metadata": {},
   "outputs": [],
   "source": [
    "# Train diffrent types the model\n",
    "\n",
    "def Machine_Learning(x_train, y_train, choice) :\n",
    "    match choice :\n",
    "        case 1 :\n",
    "            print(\"Random Forest Model : \")\n",
    "            model = RandomForestRegressor()\n",
    "            return model.fit(x_train, y_train)\n",
    "        \n",
    "        case 2 :\n",
    "            print(\"Linear Regression Model : \")\n",
    "            model = LinearRegression()\n",
    "            return model.fit(x_train, y_train)\n",
    "\n",
    "        case 3 :\n",
    "            print(\"Decision Tree Model : \")\n",
    "            model = DecisionTreeRegressor()\n",
    "            return model(x_train, y_train)\n",
    "        \n",
    "        case 4 :\n",
    "            print(\"Gradient Boosting Machines Model : \")\n",
    "            model = xgb.XGBClassifier(objective='multi:softmax', num_class=3, colsample_bytree=0.3, learning_rate=0.1, max_depth=5, n_estimators=100)\n",
    "            return model(x_train, y_train)\n",
    "        \n",
    "        case _ :\n",
    "            print(\"No more Machine Learning Model are available\")"
   ]
  },
  {
   "cell_type": "markdown",
   "metadata": {},
   "source": [
    "4. Make Prediction "
   ]
  },
  {
   "cell_type": "code",
   "execution_count": null,
   "metadata": {},
   "outputs": [],
   "source": [
    "# Make predictions\n",
    "\n",
    "print(\"Enter 1 for Random Forest Model\\nEnter 2 for Linear Regression Model\\nEnter 3 for Decision Tree Model\\nEnter 4 for Gradient Boosting Machine Model\\n\" )\n",
    "\n",
    "choice = int(input(\"Enter : \"))\n",
    "\n",
    "obj = Machine_Learning(x_train, y_train, choice)\n",
    "y_pred = obj.predict(x_test)"
   ]
  },
  {
   "cell_type": "markdown",
   "metadata": {},
   "source": [
    "5. Evaluating the Model "
   ]
  },
  {
   "cell_type": "code",
   "execution_count": 19,
   "metadata": {},
   "outputs": [],
   "source": [
    "# Evaluate the model\n",
    "\n",
    "mae = mean_absolute_error(y_test, y_pred)\n",
    "mse = mean_squared_error(y_test, y_pred)\n",
    "r2 = r2_score(y_test, y_pred)"
   ]
  },
  {
   "cell_type": "code",
   "execution_count": null,
   "metadata": {},
   "outputs": [],
   "source": [
    "# Print\n",
    "\n",
    "print(f'Mean Absolute Error: {mae}')\n",
    "print(f'Mean Squared Error: {mse}')\n",
    "print(f'R2 Score: {r2}')"
   ]
  },
  {
   "cell_type": "markdown",
   "metadata": {},
   "source": [
    "Data Visualization"
   ]
  },
  {
   "cell_type": "code",
   "execution_count": null,
   "metadata": {},
   "outputs": [],
   "source": [
    "plt.figure(figsize=(10, 6))\n",
    "\n",
    "# Scatter plot with regression line\n",
    "\n",
    "sns.scatterplot(x='CO2 Emissions', y='Temperature', data=data, color='blue', label='Actual Data')\n",
    "\n",
    "plt.title('Global Temperature vs. CO2 Levels')\n",
    "plt.xlabel('CO2 Levels (ppm)')\n",
    "plt.ylabel('Temperature (°C)')\n",
    "plt.legend()\n",
    "plt.grid(True)\n",
    "plt.show()"
   ]
  },
  {
   "cell_type": "markdown",
   "metadata": {},
   "source": [
    "Predict the Value"
   ]
  },
  {
   "cell_type": "code",
   "execution_count": null,
   "metadata": {},
   "outputs": [],
   "source": [
    "# Linear Regression\n",
    "\n",
    "print(\"Enter the values for future prediction : \")\n",
    "for i in range(0, 10) :\n",
    "    x_future = np.array[[i]]\n",
    "    \n",
    "# Predict future values\n",
    "y_future = obj.predict(x_future)\n",
    "\n",
    "print(\"Future predictions : \", y_future)"
   ]
  },
  {
   "cell_type": "code",
   "execution_count": null,
   "metadata": {},
   "outputs": [],
   "source": [
    "# Define scenarios\n",
    "\n",
    "current_co2 = int(input(\"Enter the value of CO2 : \"))\n",
    "scenarios = {\n",
    "    'Current CO2': current_co2,\n",
    "    '5% Increase': current_co2 * 1.05,\n",
    "    '10% Increase': current_co2 * 1.10,\n",
    "    '15% Increase': current_co2 * 1.15,\n",
    "    '20% Increase': current_co2 * 1.20,\n",
    "    '25% Increase': current_co2 * 1.25,\n",
    "    '30% Increase': current_co2 * 1.30,\n",
    "    '35% Increase': current_co2 * 1.35,\n",
    "    '40% Increase': current_co2 * 1.40\n",
    "}\n",
    "\n",
    "# Make predictions for each scenario\n",
    "predictions = {}\n",
    "for scenario, co2_level in scenarios.items():\n",
    "    prediction = obj.predict([[co2_level]])[0]\n",
    "    predictions[scenario] = prediction\n",
    "\n",
    "print(predictions)"
   ]
  },
  {
   "cell_type": "code",
   "execution_count": null,
   "metadata": {},
   "outputs": [],
   "source": []
  }
 ],
 "metadata": {
  "kernelspec": {
   "display_name": "Python 3",
   "language": "python",
   "name": "python3"
  },
  "language_info": {
   "codemirror_mode": {
    "name": "ipython",
    "version": 3
   },
   "file_extension": ".py",
   "mimetype": "text/x-python",
   "name": "python",
   "nbconvert_exporter": "python",
   "pygments_lexer": "ipython3",
   "version": "3.11.5"
  }
 },
 "nbformat": 4,
 "nbformat_minor": 2
}
