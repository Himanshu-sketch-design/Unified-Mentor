{
 "cells": [
  {
   "cell_type": "markdown",
   "metadata": {},
   "source": [
    "OCD Patient Dataset: Demographics & Clinical Data Analysis"
   ]
  },
  {
   "cell_type": "markdown",
   "metadata": {},
   "source": [
    "Import the Library and Reading the file"
   ]
  },
  {
   "cell_type": "code",
   "execution_count": 147,
   "metadata": {},
   "outputs": [],
   "source": [
    "# import the necessary library\n",
    "\n",
    "import numpy as np\n",
    "import pandas as pd\n",
    "import seaborn as sns\n",
    "import plotly.express as px\n",
    "import matplotlib.pyplot as plt\n",
    "from sklearn.model_selection import train_test_split, cross_val_score\n",
    "from sklearn.impute import SimpleImputer\n",
    "import xgboost as xgb\n",
    "from sklearn.preprocessing import MinMaxScaler\n",
    "from sklearn.neighbors import KNeighborsClassifier\n",
    "from sklearn.linear_model import LogisticRegression, SGDClassifier, RidgeClassifier\n",
    "from sklearn.ensemble import RandomForestClassifier, ExtraTreesClassifier, HistGradientBoostingClassifier\n",
    "from sklearn.naive_bayes import GaussianNB\n",
    "from sklearn.dummy import DummyClassifier\n",
    "from sklearn.svm import SVC\n",
    "from sklearn.ensemble import VotingClassifier\n",
    "from sklearn.metrics import accuracy_score, confusion_matrix"
   ]
  },
  {
   "cell_type": "code",
   "execution_count": 148,
   "metadata": {},
   "outputs": [],
   "source": [
    "# reading the data from the dataset\n",
    "\n",
    "data = pd.read_csv(r\"D:\\OCD Patient Dataset_ Demographics & Clinical Data.csv\")"
   ]
  },
  {
   "cell_type": "code",
   "execution_count": 149,
   "metadata": {},
   "outputs": [],
   "source": [
    "# convert the dataset into dataframe\n",
    "\n",
    "data = pd.DataFrame(data)"
   ]
  },
  {
   "cell_type": "code",
   "execution_count": null,
   "metadata": {},
   "outputs": [],
   "source": [
    "# print the top 5 values of the dataset\n",
    "\n",
    "data.head()"
   ]
  },
  {
   "cell_type": "code",
   "execution_count": null,
   "metadata": {},
   "outputs": [],
   "source": [
    "# print the dimension of the dataset\n",
    "\n",
    "data.shape"
   ]
  },
  {
   "cell_type": "code",
   "execution_count": null,
   "metadata": {},
   "outputs": [],
   "source": [
    "# print the dataset statistical values\n",
    "\n",
    "data.describe()"
   ]
  },
  {
   "cell_type": "code",
   "execution_count": null,
   "metadata": {},
   "outputs": [],
   "source": [
    "# print dataset types \n",
    "\n",
    "data.info()"
   ]
  },
  {
   "cell_type": "code",
   "execution_count": null,
   "metadata": {},
   "outputs": [],
   "source": [
    "# print the data columns\n",
    "\n",
    "data.columns"
   ]
  },
  {
   "cell_type": "markdown",
   "metadata": {},
   "source": [
    "Data Preprocessing"
   ]
  },
  {
   "cell_type": "markdown",
   "metadata": {},
   "source": [
    "1. Data Cleaning"
   ]
  },
  {
   "cell_type": "code",
   "execution_count": null,
   "metadata": {},
   "outputs": [],
   "source": [
    "# check if dataset has null values or not\n",
    "\n",
    "data.isnull().sum()\n",
    "\n",
    "# Note : if dataset has null values delete the values or fill those columns "
   ]
  },
  {
   "cell_type": "code",
   "execution_count": null,
   "metadata": {},
   "outputs": [],
   "source": [
    "# Fill the null values using fillna function\n",
    "\n",
    "data[['Previous Diagnoses', 'Medications']].fillna('unknown', inplace = True)"
   ]
  },
  {
   "cell_type": "markdown",
   "metadata": {},
   "source": [
    "2. Data Normalisation"
   ]
  },
  {
   "cell_type": "code",
   "execution_count": null,
   "metadata": {},
   "outputs": [],
   "source": [
    "# convert the object type data columns into categorical type\n",
    "\n",
    "data[['Gender', 'Ethnicity', 'Marital Status', 'Education Level', 'OCD Diagnosis Date', 'Previous Diagnoses', 'Family History of OCD', 'Obsession Type', 'Compulsion Type', 'Depression Diagnosis', 'Anxiety Diagnosis', 'Medications']].astype('category')"
   ]
  },
  {
   "cell_type": "markdown",
   "metadata": {},
   "source": [
    "Data Visualisattion"
   ]
  },
  {
   "cell_type": "code",
   "execution_count": null,
   "metadata": {},
   "outputs": [],
   "source": [
    "palette = sns.color_palette(\"viridis\")\n",
    "\n",
    "plt.subplot(1, 3, 1)\n",
    "sns.countplot(x = data[\"Gender\"], palette = palette)\n",
    "plt.xticks(rotation = 30)\n",
    "\n",
    "plt.subplot(1, 3, 3)\n",
    "sns.countplot(x = data[\"Ethnicity\"], palette = palette)\n",
    "plt.xticks(rotation = 30)"
   ]
  },
  {
   "cell_type": "code",
   "execution_count": null,
   "metadata": {},
   "outputs": [],
   "source": [
    "palette = sns.color_palette(\"viridis\")\n",
    "\n",
    "plt.subplot(1, 3, 1)\n",
    "sns.countplot(x = data[\"Marital Status\"], palette = palette)\n",
    "plt.xticks(rotation = 30)\n",
    "\n",
    "plt.subplot(1, 3, 3)\n",
    "sns.countplot(x = data[\"Education Level\"], palette = palette)\n",
    "plt.xticks(rotation = 30)"
   ]
  },
  {
   "cell_type": "code",
   "execution_count": null,
   "metadata": {},
   "outputs": [],
   "source": [
    "palette = sns.color_palette(\"magma\")\n",
    "\n",
    "plt.subplot(1, 3, 1)\n",
    "sns.countplot(x = data[\"Family History of OCD\"], palette = palette)\n",
    "plt.xticks(rotation = 30)\n",
    "\n",
    "plt.subplot(1, 3, 3)\n",
    "sns.countplot(x = data[\"Obsession Type\"], palette = palette)\n",
    "plt.xticks(rotation = 90)"
   ]
  },
  {
   "cell_type": "code",
   "execution_count": null,
   "metadata": {},
   "outputs": [],
   "source": [
    "palette = sns.color_palette(\"magma\")\n",
    "\n",
    "plt.subplot(1, 3, 1)\n",
    "sns.countplot(x = data[\"Compulsion Type\"], palette = palette)\n",
    "plt.xticks(rotation = 90)\n",
    "\n",
    "plt.subplot(1, 3, 3)\n",
    "sns.countplot(x = data[\"Depression Diagnosis\"], palette= palette)\n",
    "plt.xticks(rotation = 90)"
   ]
  },
  {
   "cell_type": "markdown",
   "metadata": {},
   "source": [
    "Pre processing"
   ]
  },
  {
   "cell_type": "code",
   "execution_count": 162,
   "metadata": {},
   "outputs": [],
   "source": [
    "data_col = data[[\"Gender\", \"Ethnicity\", \"Marital Status\", \"Education Level\", \"Previous Diagnoses\", \"Family History of OCD\", \"Obsession Type\", \"Compulsion Type\", \"Depression Diagnosis\", \"Anxiety Diagnosis\", \"Medications\"]]\n",
    "\n",
    "df = pd.DataFrame(data_col)\n",
    "\n",
    "def map_column_to_numbers(column, counter):\n",
    "    value_counts = column.value_counts()\n",
    "    value_map = {}\n",
    "    \n",
    "    for value in value_counts.index:\n",
    "        if value not in value_map:\n",
    "            value_map[value] = counter\n",
    "            counter += 1\n",
    "    \n",
    "    return column.map(value_map), counter\n",
    "\n",
    "for col in df : \n",
    "    counter = 0\n",
    "    data[col], counter = map_column_to_numbers(df[col], counter)\n",
    "    \n",
    "data = data.drop(columns=['OCD Diagnosis Date'],axis=1)"
   ]
  },
  {
   "cell_type": "code",
   "execution_count": null,
   "metadata": {},
   "outputs": [],
   "source": [
    "# print the skewness and kurtosis of the dataset\n",
    "\n",
    "print(\"Skewness: %f\" % data['Previous Diagnoses'].skew())\n",
    "print(\"Kurtosis: %f\" % data['Previous Diagnoses'].kurt())"
   ]
  },
  {
   "cell_type": "markdown",
   "metadata": {},
   "source": [
    "Training and Visualizing the data"
   ]
  },
  {
   "cell_type": "code",
   "execution_count": 164,
   "metadata": {},
   "outputs": [],
   "source": [
    "# Use mean using Simple Imputer method \n",
    "\n",
    "num_cols = ['Previous Diagnoses']\n",
    "num_imp = SimpleImputer(strategy='mean')\n",
    "\n",
    "data[num_cols] = pd.DataFrame(num_imp.fit_transform(data[num_cols]), columns = num_cols)"
   ]
  },
  {
   "cell_type": "code",
   "execution_count": 165,
   "metadata": {},
   "outputs": [],
   "source": [
    "data = data.dropna(axis=0,how='any')"
   ]
  },
  {
   "cell_type": "code",
   "execution_count": null,
   "metadata": {},
   "outputs": [],
   "source": [
    "# print the top 5 values of the data\n",
    "\n",
    "data.head()"
   ]
  },
  {
   "cell_type": "code",
   "execution_count": 167,
   "metadata": {},
   "outputs": [],
   "source": [
    "#  Training the features\n",
    "\n",
    "train_feature = data.columns.drop('Medications').tolist()"
   ]
  },
  {
   "cell_type": "code",
   "execution_count": null,
   "metadata": {},
   "outputs": [],
   "source": [
    "data[train_feature].describe().T.style.bar(subset=['mean'], color=px.colors.qualitative.G10[0]).background_gradient(subset=['std'], cmap='BuPu').background_gradient(subset=['50%'], cmap='Reds')"
   ]
  },
  {
   "cell_type": "code",
   "execution_count": null,
   "metadata": {},
   "outputs": [],
   "source": [
    "for feat in train_feature :\n",
    "\n",
    "    plt.figure(figsize = (15, 3))\n",
    "    ax1 = plt.subplot(1, 2, 1)\n",
    "    data[feat].plot(kind = 'hist', bins = 50, color = 'Green')\n",
    "    plt.title(feat + ' / train')\n",
    "    plt.show()"
   ]
  },
  {
   "cell_type": "code",
   "execution_count": null,
   "metadata": {},
   "outputs": [],
   "source": [
    "for col in data.columns :    \n",
    "    print(f\"Skewness of {col} : %f\" % data[col].skew())\n",
    "    print(f\"Kurtosis of {col} : %f\" % data[col].kurt())"
   ]
  },
  {
   "cell_type": "markdown",
   "metadata": {},
   "source": [
    "Feature Selection, Training the model and Visualisation of Data"
   ]
  },
  {
   "cell_type": "code",
   "execution_count": null,
   "metadata": {},
   "outputs": [],
   "source": [
    "x = data.drop(columns=['Medications'],axis=1)\n",
    "y = data['Medications']\n",
    "\n",
    "# Training the model \n",
    "\n",
    "model = [xgb.XGBClassifier()]\n",
    "\n",
    "model = [model[i].fit(x, y) for i in range(len(model))]\n",
    "\n",
    "num_chr = [12, 12, 10]\n",
    "\n",
    "for i in range(len(model)):\n",
    "\n",
    "    print(str(model[i])[:num_chr[i]] + ': \\n', model[i].feature_importances_)\n",
    "\n",
    "    feat_importances = pd.Series(model[i].feature_importances_, index = x.columns)\n",
    "    feat_importances.nlargest(15).plot(kind='barh', color='royalblue')\n",
    "\n",
    "    plt.xlim(0, 0.5)\n",
    "    plt.show()"
   ]
  },
  {
   "cell_type": "code",
   "execution_count": null,
   "metadata": {},
   "outputs": [],
   "source": [
    "corr = data.corr(method='pearson')\n",
    "\n",
    "fig, ax = plt.subplots(figsize=(15, 15))\n",
    "\n",
    "sns.heatmap(corr, cmap='RdBu', annot=True, fmt=\".2f\")\n",
    "\n",
    "plt.xticks(range(len(corr.columns)), corr.columns)\n",
    "plt.yticks(range(len(corr.columns)), corr.columns)\n",
    "\n",
    "plt.show()"
   ]
  },
  {
   "cell_type": "code",
   "execution_count": 174,
   "metadata": {},
   "outputs": [],
   "source": [
    "x = data.drop(columns=['Medications'],axis=1)\n",
    "y = data['Medications']\n",
    "\n",
    "MinMaxScaler = MinMaxScaler()\n",
    "\n",
    "x = MinMaxScaler.fit_transform(x)\n",
    "x = pd.DataFrame(x)"
   ]
  },
  {
   "cell_type": "markdown",
   "metadata": {},
   "source": [
    "Data Modeling"
   ]
  },
  {
   "cell_type": "code",
   "execution_count": 175,
   "metadata": {},
   "outputs": [],
   "source": [
    "x_train, x_test, y_train, y_test = train_test_split(x, y, test_size=0.2, random_state=2019)"
   ]
  },
  {
   "cell_type": "code",
   "execution_count": null,
   "metadata": {},
   "outputs": [],
   "source": [
    "# print the dataset info\n",
    "\n",
    "print(\"Shape of x_train: \",x_train.shape)\n",
    "print(\"Shape of x_eval: \", x_test.shape)\n",
    "print(\"Shape of y_train: \",y_train.shape)\n",
    "print(\"Shape of y_eval\",y_test.shape)"
   ]
  },
  {
   "cell_type": "code",
   "execution_count": 177,
   "metadata": {},
   "outputs": [],
   "source": [
    "model_1 = SVC()\n",
    "model_2 = LogisticRegression()\n",
    "model_3 = SGDClassifier()\n",
    "model_4 = xgb.XGBClassifier(objective='multi:softmax')\n",
    "model_5 = KNeighborsClassifier()\n",
    "model_6 = RandomForestClassifier()\n",
    "model_7 = ExtraTreesClassifier()\n",
    "model_8 = HistGradientBoostingClassifier()"
   ]
  },
  {
   "cell_type": "code",
   "execution_count": 178,
   "metadata": {},
   "outputs": [],
   "source": [
    "model = VotingClassifier(estimators=[('SVM', model_1), ('Log', model_2), ('SGD', model_3), ('XGBoost', model_4), ('KNeighbors', model_5), ('RandomForest', model_6), ('ExtraTrees', model_7),('HistGradientBoosting', model_8)], voting = 'hard')"
   ]
  },
  {
   "cell_type": "code",
   "execution_count": 179,
   "metadata": {},
   "outputs": [],
   "source": [
    "model_list = [model_1, model_2, model_3, model_5, model_6, model_7, model_8, model]\n",
    "model_name = ['SVC', 'Log', 'SGD','XGBoost','KNeighbors','RandomForest','ExtraTrees','HistGradientBoosting']"
   ]
  },
  {
   "cell_type": "code",
   "execution_count": null,
   "metadata": {},
   "outputs": [],
   "source": [
    "for clf, label in zip(model_list, model_name) :\n",
    "    scores = cross_val_score(clf, x_train, y_train, scoring='accuracy', cv=5)\n",
    "    print(\"Accuracy: %0.2f (+/- %0.2f) [%s]\" % (scores.mean(), scores.std(), label))"
   ]
  },
  {
   "cell_type": "code",
   "execution_count": 181,
   "metadata": {},
   "outputs": [],
   "source": [
    "model_1 = model_1.fit(x_train, y_train)\n",
    "model_2 = model_2.fit(x_train, y_train)\n",
    "model_3 = model_3.fit(x_train, y_train)\n",
    "model_4 = model_4.fit(x_train, y_train)\n",
    "model_5 = model_5.fit(x_train, y_train)\n",
    "model_6 = model_6.fit(x_train, y_train)\n",
    "model_7 = model_7.fit(x_train, y_train)\n",
    "model_8 = model_8.fit(x_train, y_train)\n",
    "\n",
    "Voting = model.fit(x_train, y_train)"
   ]
  },
  {
   "cell_type": "code",
   "execution_count": null,
   "metadata": {},
   "outputs": [],
   "source": [
    "y_pred = Voting.predict(x_test)\n",
    "score = accuracy_score(y_test, y_pred)\n",
    "\n",
    "# print the accuracy score\n",
    "\n",
    "print(\"Voting accuracy is: {0:.3f}%\".format(score * 100))"
   ]
  },
  {
   "cell_type": "code",
   "execution_count": 183,
   "metadata": {},
   "outputs": [],
   "source": [
    "# Create a confusion matrix\n",
    "\n",
    "cm = confusion_matrix(y_test, y_pred)"
   ]
  },
  {
   "cell_type": "markdown",
   "metadata": {},
   "source": [
    "Data Visualisation"
   ]
  },
  {
   "cell_type": "code",
   "execution_count": null,
   "metadata": {},
   "outputs": [],
   "source": [
    "plt.figure(figsize = (8, 4))\n",
    "sns.heatmap(cm, annot=True, fmt='.0f')\n",
    "plt.xlabel(\"Predicted Digits\")\n",
    "plt.ylabel(\"True Digits\")\n",
    "plt.show()"
   ]
  }
 ],
 "metadata": {
  "kernelspec": {
   "display_name": "Python 3",
   "language": "python",
   "name": "python3"
  },
  "language_info": {
   "codemirror_mode": {
    "name": "ipython",
    "version": 3
   },
   "file_extension": ".py",
   "mimetype": "text/x-python",
   "name": "python",
   "nbconvert_exporter": "python",
   "pygments_lexer": "ipython3",
   "version": "3.11.5"
  }
 },
 "nbformat": 4,
 "nbformat_minor": 2
}
